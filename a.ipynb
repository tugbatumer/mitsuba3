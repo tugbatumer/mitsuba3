{
 "cells": [
  {
   "cell_type": "code",
   "metadata": {
    "ExecuteTime": {
     "end_time": "2024-11-17T21:03:00.847284Z",
     "start_time": "2024-11-17T21:03:00.784666Z"
    }
   },
   "source": [
    "import mitsuba as mi \n",
    "import drjit as dr \n",
    "import numpy as np\n",
    "import matplotlib.pyplot as plt\n",
    "mi.set_variant(\"llvm_ad_rgb\")"
   ],
   "outputs": [],
   "execution_count": 85
  },
  {
   "metadata": {
    "ExecuteTime": {
     "end_time": "2024-11-17T21:03:01.374164Z",
     "start_time": "2024-11-17T21:03:01.372068Z"
    }
   },
   "cell_type": "code",
   "source": "from drjit.llvm import Float, UInt32",
   "outputs": [],
   "execution_count": 86
  },
  {
   "cell_type": "code",
   "metadata": {
    "ExecuteTime": {
     "end_time": "2024-11-17T21:03:03.885405Z",
     "start_time": "2024-11-17T21:03:03.879555Z"
    }
   },
   "source": [
    "# Define multiple cdf s and pdf s to sample from. We will specify an index parameter \n",
    "# to choose the correct distribution.\n",
    "pdf = np.array([[1,2,3,4,3,1,2,4,5,6,7],\n",
    "                [1,4,1,4,4,5,2,3,5,5,1]])\n",
    "pdf = pdf / np.sum(pdf, axis = 1)[:,np.newaxis]\n",
    "cdf = np.cumsum(pdf, axis = 1) / np.sum(pdf, axis = 1)[:,np.newaxis]\n",
    "# Add zero values to the beginning of the cdf.\n",
    "cdf = np.hstack([np.zeros([pdf.shape[0],1]), cdf])"
   ],
   "outputs": [],
   "execution_count": 87
  },
  {
   "cell_type": "code",
   "metadata": {
    "ExecuteTime": {
     "end_time": "2024-11-17T21:03:04.259021Z",
     "start_time": "2024-11-17T21:03:04.255731Z"
    }
   },
   "source": [
    "pdf = mi.TensorXf(pdf)\n",
    "cdf = mi.TensorXf(cdf)\n",
    "print(pdf.shape)\n",
    "print(cdf.shape)"
   ],
   "outputs": [
    {
     "name": "stdout",
     "output_type": "stream",
     "text": [
      "(2, 11)\n",
      "(2, 12)\n"
     ]
    }
   ],
   "execution_count": 88
  },
  {
   "cell_type": "code",
   "metadata": {
    "ExecuteTime": {
     "end_time": "2024-11-17T21:03:04.719339Z",
     "start_time": "2024-11-17T21:03:04.716931Z"
    }
   },
   "source": "print(cdf)",
   "outputs": [
    {
     "name": "stdout",
     "output_type": "stream",
     "text": [
      "TensorXf(shape=(2, 12))\n"
     ]
    }
   ],
   "execution_count": 89
  },
  {
   "cell_type": "code",
   "metadata": {
    "ExecuteTime": {
     "end_time": "2024-11-17T21:03:05.791010Z",
     "start_time": "2024-11-17T21:03:05.780923Z"
    }
   },
   "source": [
    "# Do not forget to write @dr.syntax in the beginning of each function. \n",
    "# You can check drjit documentation for it.\n",
    "\n",
    "def eval_pdf(x, index = UInt32(0)):\n",
    "    n = pdf.shape[1]\n",
    "    n_bin = dr.minimum(n-1, UInt32(x * n))\n",
    "    # Get the index of the array for the corresponding index of cdf.\n",
    "    i = n * index + n_bin\n",
    "    return dr.gather(Float, pdf.array, i) * n\n",
    "\n",
    "def eval_cdf(x, index = UInt32(0)):\n",
    "    n = pdf.shape[1]\n",
    "    x_n = x * n\n",
    "    n_bin = dr.minimum(n-1, UInt32(x_n))\n",
    "    # Residual value\n",
    "    r = x_n - Float(n_bin)\n",
    "    \n",
    "    # Get the corresponding indices from different cdfs.\n",
    "    i = (n +1) * index + n_bin\n",
    "    cdf_low = dr.gather(Float, cdf.array, i)\n",
    "    cdf_high = dr.gather(Float, cdf.array, i + 1)\n",
    "\n",
    "    # Apply linear interpolation between cdf values.\n",
    "    return cdf_low * (1 -r) + cdf_high * r\n",
    "\n",
    "def sample(sample : Float, index = UInt32(0)):\n",
    "    # Run bisection to apply inverse cdf.\n",
    "    n = pdf.shape[1]\n",
    "    low = dr.zeros(UInt32, dr.width(sample))\n",
    "    high = dr.ones(UInt32, dr.width(sample)) * n\n",
    "\n",
    "    # You should define your loops as while loops to run in the symbolic mode with drjit. \n",
    "    # Otherwise a new cuda kernel will be generated at each iteration which we don't want.\n",
    "    # You can read the drjit documentation about how the loops are implemented.\n",
    "\n",
    "    # We first find the correct bin to sample from.\n",
    "    print(low, high)\n",
    "    while (low+1) < high:\n",
    "        middle =  (low + high) // 2\n",
    "        # Evaluate the cdf for the corresponding distributions.\n",
    "        i = (n +1) * index + middle\n",
    "        cdf_val = dr.gather(Float, cdf.array, i)\n",
    "        \n",
    "        if sample < cdf_val:\n",
    "            high = middle\n",
    "        else:\n",
    "            low = middle\n",
    "\n",
    "    # Now we found the corect bin. We need to find the exact point by a linear interpolation as the cdf is linear.\n",
    "    i = (n +1) * index + low \n",
    "    cdf_low = dr.gather(Float, cdf.array, i)\n",
    "    cdf_high = dr.gather(Float, cdf.array, i+1)\n",
    "    \n",
    "    residual = sample - cdf_low\n",
    "\n",
    "    return (Float(low) + residual / (cdf_high - cdf_low))/ n"
   ],
   "outputs": [],
   "execution_count": 90
  },
  {
   "cell_type": "code",
   "metadata": {
    "ExecuteTime": {
     "end_time": "2024-11-17T21:03:16.763622Z",
     "start_time": "2024-11-17T21:03:16.674900Z"
    }
   },
   "source": [
    "# First plot the cdf and the pdf for a certain index.\n",
    "n = 200\n",
    "ind = 0\n",
    "index = dr.ones(mi.UInt32, n) * ind\n",
    "x = dr.arange(mi.Float, n) / n \n",
    "pdf_vals = eval_pdf(x, index)\n",
    "cdf_vals = eval_cdf(x, index)"
   ],
   "outputs": [
    {
     "ename": "TypeError",
     "evalue": "UInt constructor expects: arbitrarily many values of type \"int\", a matching list/tuple, or a NumPy/PyTorch/TF/Jax array.",
     "output_type": "error",
     "traceback": [
      "\u001B[0;31m---------------------------------------------------------------------------\u001B[0m",
      "\u001B[0;31mException\u001B[0m                                 Traceback (most recent call last)",
      "File \u001B[0;32m~/Desktop/mitsuba3/venv/lib/python3.9/site-packages/drjit/detail.py:197\u001B[0m, in \u001B[0;36marray_init\u001B[0;34m(self, args)\u001B[0m\n\u001B[1;32m    195\u001B[0m \u001B[38;5;28;01mif\u001B[39;00m \u001B[38;5;28mself\u001B[39m\u001B[38;5;241m.\u001B[39mIsJIT \u001B[38;5;129;01mand\u001B[39;00m \u001B[38;5;28mgetattr\u001B[39m(t, \u001B[38;5;124m\"\u001B[39m\u001B[38;5;124mIsJIT\u001B[39m\u001B[38;5;124m\"\u001B[39m, \u001B[38;5;28;01mFalse\u001B[39;00m) \u001B[38;5;129;01mand\u001B[39;00m \\\n\u001B[1;32m    196\u001B[0m    \u001B[38;5;28mself\u001B[39m\u001B[38;5;241m.\u001B[39mDepth \u001B[38;5;241m==\u001B[39m \u001B[38;5;241m1\u001B[39m \u001B[38;5;129;01mand\u001B[39;00m t\u001B[38;5;241m.\u001B[39mDepth \u001B[38;5;241m==\u001B[39m \u001B[38;5;241m1\u001B[39m:\n\u001B[0;32m--> 197\u001B[0m     \u001B[38;5;28;01mraise\u001B[39;00m _dr\u001B[38;5;241m.\u001B[39mException(\n\u001B[1;32m    198\u001B[0m         \u001B[38;5;124m\"\u001B[39m\u001B[38;5;124mRefusing to do an extremely inefficient \u001B[39m\u001B[38;5;124m\"\u001B[39m\n\u001B[1;32m    199\u001B[0m         \u001B[38;5;124m\"\u001B[39m\u001B[38;5;124melement-by-element array conversion from type \u001B[39m\u001B[38;5;132;01m%s\u001B[39;00m\u001B[38;5;124m \u001B[39m\u001B[38;5;124m\"\u001B[39m\n\u001B[1;32m    200\u001B[0m         \u001B[38;5;124m\"\u001B[39m\u001B[38;5;124mto \u001B[39m\u001B[38;5;132;01m%s\u001B[39;00m\u001B[38;5;124m. Did you forget a cast or detach operation?\u001B[39m\u001B[38;5;124m\"\u001B[39m\n\u001B[1;32m    201\u001B[0m         \u001B[38;5;241m%\u001B[39m (\u001B[38;5;28mstr\u001B[39m(\u001B[38;5;28mtype\u001B[39m(o)), \u001B[38;5;28mstr\u001B[39m(\u001B[38;5;28mtype\u001B[39m(\u001B[38;5;28mself\u001B[39m))))\n\u001B[1;32m    203\u001B[0m \u001B[38;5;28;01mif\u001B[39;00m \u001B[38;5;28misinstance\u001B[39m(o[\u001B[38;5;241m0\u001B[39m], value_type) \u001B[38;5;129;01mor\u001B[39;00m \u001B[38;5;28mself\u001B[39m\u001B[38;5;241m.\u001B[39mIsMatrix:\n",
      "\u001B[0;31mException\u001B[0m: Refusing to do an extremely inefficient element-by-element array conversion from type <class 'drjit.llvm.ad.Float'> to <class 'drjit.llvm.UInt'>. Did you forget a cast or detach operation?",
      "\nThe above exception was the direct cause of the following exception:\n",
      "\u001B[0;31mTypeError\u001B[0m                                 Traceback (most recent call last)",
      "Cell \u001B[0;32mIn[93], line 6\u001B[0m\n\u001B[1;32m      4\u001B[0m index \u001B[38;5;241m=\u001B[39m dr\u001B[38;5;241m.\u001B[39mones(mi\u001B[38;5;241m.\u001B[39mUInt32, n) \u001B[38;5;241m*\u001B[39m ind\n\u001B[1;32m      5\u001B[0m x \u001B[38;5;241m=\u001B[39m dr\u001B[38;5;241m.\u001B[39marange(mi\u001B[38;5;241m.\u001B[39mFloat, n) \u001B[38;5;241m/\u001B[39m n \n\u001B[0;32m----> 6\u001B[0m pdf_vals \u001B[38;5;241m=\u001B[39m \u001B[43meval_pdf\u001B[49m\u001B[43m(\u001B[49m\u001B[43mx\u001B[49m\u001B[43m,\u001B[49m\u001B[43m \u001B[49m\u001B[43mindex\u001B[49m\u001B[43m)\u001B[49m\n\u001B[1;32m      7\u001B[0m cdf_vals \u001B[38;5;241m=\u001B[39m eval_cdf(x, index)\n",
      "Cell \u001B[0;32mIn[90], line 6\u001B[0m, in \u001B[0;36meval_pdf\u001B[0;34m(x, index)\u001B[0m\n\u001B[1;32m      4\u001B[0m \u001B[38;5;28;01mdef\u001B[39;00m \u001B[38;5;21meval_pdf\u001B[39m(x, index \u001B[38;5;241m=\u001B[39m UInt32(\u001B[38;5;241m0\u001B[39m)):\n\u001B[1;32m      5\u001B[0m     n \u001B[38;5;241m=\u001B[39m pdf\u001B[38;5;241m.\u001B[39mshape[\u001B[38;5;241m1\u001B[39m]\n\u001B[0;32m----> 6\u001B[0m     n_bin \u001B[38;5;241m=\u001B[39m dr\u001B[38;5;241m.\u001B[39mminimum(n\u001B[38;5;241m-\u001B[39m\u001B[38;5;241m1\u001B[39m, \u001B[43mUInt32\u001B[49m\u001B[43m(\u001B[49m\u001B[43mx\u001B[49m\u001B[43m \u001B[49m\u001B[38;5;241;43m*\u001B[39;49m\u001B[43m \u001B[49m\u001B[43mn\u001B[49m\u001B[43m)\u001B[49m)\n\u001B[1;32m      7\u001B[0m     \u001B[38;5;66;03m# Get the index of the array for the corresponding index of cdf.\u001B[39;00m\n\u001B[1;32m      8\u001B[0m     i \u001B[38;5;241m=\u001B[39m n \u001B[38;5;241m*\u001B[39m index \u001B[38;5;241m+\u001B[39m n_bin\n",
      "File \u001B[0;32m~/Desktop/mitsuba3/venv/lib/python3.9/site-packages/drjit/detail.py:292\u001B[0m, in \u001B[0;36marray_init\u001B[0;34m(self, args)\u001B[0m\n\u001B[1;32m    290\u001B[0m \u001B[38;5;28;01mif\u001B[39;00m err \u001B[38;5;129;01mis\u001B[39;00m \u001B[38;5;129;01mnot\u001B[39;00m \u001B[38;5;28;01mNone\u001B[39;00m:\n\u001B[1;32m    291\u001B[0m     \u001B[38;5;28;01mif\u001B[39;00m dynamic:\n\u001B[0;32m--> 292\u001B[0m         \u001B[38;5;28;01mraise\u001B[39;00m \u001B[38;5;167;01mTypeError\u001B[39;00m(\u001B[38;5;124m\"\u001B[39m\u001B[38;5;132;01m%s\u001B[39;00m\u001B[38;5;124m constructor expects: arbitrarily many values \u001B[39m\u001B[38;5;124m\"\u001B[39m\n\u001B[1;32m    293\u001B[0m                         \u001B[38;5;124m\"\u001B[39m\u001B[38;5;124mof type \u001B[39m\u001B[38;5;130;01m\\\"\u001B[39;00m\u001B[38;5;132;01m%s\u001B[39;00m\u001B[38;5;130;01m\\\"\u001B[39;00m\u001B[38;5;124m, a matching list/tuple, or a NumPy/\u001B[39m\u001B[38;5;124m\"\u001B[39m\n\u001B[1;32m    294\u001B[0m                         \u001B[38;5;124m\"\u001B[39m\u001B[38;5;124mPyTorch/TF/Jax array.\u001B[39m\u001B[38;5;124m\"\u001B[39m \u001B[38;5;241m%\u001B[39m (\u001B[38;5;28mtype\u001B[39m(\u001B[38;5;28mself\u001B[39m)\u001B[38;5;241m.\u001B[39m\u001B[38;5;18m__name__\u001B[39m,\n\u001B[1;32m    295\u001B[0m                                                    value_type\u001B[38;5;241m.\u001B[39m\u001B[38;5;18m__name__\u001B[39m)) \u001B[38;5;28;01mfrom\u001B[39;00m \u001B[38;5;21;01merr\u001B[39;00m\n\u001B[1;32m    296\u001B[0m     \u001B[38;5;28;01melse\u001B[39;00m:\n\u001B[1;32m    297\u001B[0m         \u001B[38;5;28;01mraise\u001B[39;00m \u001B[38;5;167;01mTypeError\u001B[39;00m(\u001B[38;5;124m\"\u001B[39m\u001B[38;5;132;01m%s\u001B[39;00m\u001B[38;5;124m constructor expects: \u001B[39m\u001B[38;5;132;01m%s\u001B[39;00m\u001B[38;5;132;01m%i\u001B[39;00m\u001B[38;5;124m values \u001B[39m\u001B[38;5;124m\"\u001B[39m\n\u001B[1;32m    298\u001B[0m                         \u001B[38;5;124m\"\u001B[39m\u001B[38;5;124mof type \u001B[39m\u001B[38;5;130;01m\\\"\u001B[39;00m\u001B[38;5;132;01m%s\u001B[39;00m\u001B[38;5;130;01m\\\"\u001B[39;00m\u001B[38;5;124m, a matching list/tuple, or a NumPy/\u001B[39m\u001B[38;5;124m\"\u001B[39m\n\u001B[1;32m    299\u001B[0m                         \u001B[38;5;124m\"\u001B[39m\u001B[38;5;124mPyTorch/TF/Jax array.\u001B[39m\u001B[38;5;124m\"\u001B[39m \u001B[38;5;241m%\u001B[39m (\u001B[38;5;28mtype\u001B[39m(\u001B[38;5;28mself\u001B[39m)\u001B[38;5;241m.\u001B[39m\u001B[38;5;18m__name__\u001B[39m, \u001B[38;5;124m\"\u001B[39m\u001B[38;5;124m\"\u001B[39m \u001B[38;5;28;01mif\u001B[39;00m\n\u001B[1;32m    300\u001B[0m                                                    size \u001B[38;5;241m==\u001B[39m \u001B[38;5;241m1\u001B[39m \u001B[38;5;28;01melse\u001B[39;00m \u001B[38;5;124m\"\u001B[39m\u001B[38;5;124m1 or \u001B[39m\u001B[38;5;124m\"\u001B[39m, size,\n\u001B[1;32m    301\u001B[0m                                                    value_type\u001B[38;5;241m.\u001B[39m\u001B[38;5;18m__name__\u001B[39m)) \u001B[38;5;28;01mfrom\u001B[39;00m \u001B[38;5;21;01merr\u001B[39;00m\n",
      "\u001B[0;31mTypeError\u001B[0m: UInt constructor expects: arbitrarily many values of type \"int\", a matching list/tuple, or a NumPy/PyTorch/TF/Jax array."
     ]
    }
   ],
   "execution_count": 93
  },
  {
   "cell_type": "code",
   "metadata": {
    "ExecuteTime": {
     "end_time": "2024-11-17T21:03:06.824165Z",
     "start_time": "2024-11-17T21:03:06.705257Z"
    }
   },
   "source": [
    "fig, (ax1, ax2) = plt.subplots(1,2,figsize = (10,5))\n",
    "ax1.plot(x.numpy(), pdf_vals.numpy())\n",
    "ax2.plot(x.numpy(), cdf_vals.numpy())\n",
    "ax1.set_title(\"PDF\")\n",
    "ax2.set_title(\"CDF\")"
   ],
   "outputs": [
    {
     "data": {
      "text/plain": [
       "Text(0.5, 1.0, 'CDF')"
      ]
     },
     "execution_count": 92,
     "metadata": {},
     "output_type": "execute_result"
    },
    {
     "data": {
      "text/plain": [
       "<Figure size 1000x500 with 2 Axes>"
      ],
      "image/png": "[encoded data removed]"
     },
     "metadata": {},
     "output_type": "display_data"
    }
   ],
   "execution_count": 92
  },
  {
   "cell_type": "code",
   "metadata": {
    "ExecuteTime": {
     "end_time": "2024-11-17T20:59:37.833665Z",
     "start_time": "2024-11-17T20:59:37.795002Z"
    }
   },
   "source": [
    "# Now lets check the sampling for a single bin.\n",
    "n_points = 100000000\n",
    "sampler = mi.PCG32(n_points)\n",
    "index = dr.ones(UInt32, n_points) * ind\n",
    "sampled = sample(sampler.next_float32(), index = index)"
   ],
   "outputs": [
    {
     "name": "stdout",
     "output_type": "stream",
     "text": [
      "[0] [11]\n"
     ]
    },
    {
     "ename": "Exception",
     "evalue": "To convert an Dr.Jit array into a boolean value, use a mask reduction operation such as drjit.all(), drjit.any(), drjit.none(). Special variants (drjit.all_nested(), etc.) are available for nested arrays.",
     "output_type": "error",
     "traceback": [
      "\u001B[0;31m---------------------------------------------------------------------------\u001B[0m",
      "\u001B[0;31mException\u001B[0m                                 Traceback (most recent call last)",
      "Cell \u001B[0;32mIn[84], line 5\u001B[0m\n\u001B[1;32m      3\u001B[0m sampler \u001B[38;5;241m=\u001B[39m mi\u001B[38;5;241m.\u001B[39mPCG32(n_points)\n\u001B[1;32m      4\u001B[0m index \u001B[38;5;241m=\u001B[39m dr\u001B[38;5;241m.\u001B[39mones(UInt32, n_points) \u001B[38;5;241m*\u001B[39m ind\n\u001B[0;32m----> 5\u001B[0m sampled \u001B[38;5;241m=\u001B[39m \u001B[43msample\u001B[49m\u001B[43m(\u001B[49m\u001B[43msampler\u001B[49m\u001B[38;5;241;43m.\u001B[39;49m\u001B[43mnext_float32\u001B[49m\u001B[43m(\u001B[49m\u001B[43m)\u001B[49m\u001B[43m,\u001B[49m\u001B[43m \u001B[49m\u001B[43mindex\u001B[49m\u001B[43m \u001B[49m\u001B[38;5;241;43m=\u001B[39;49m\u001B[43m \u001B[49m\u001B[43mindex\u001B[49m\u001B[43m)\u001B[49m\n",
      "Cell \u001B[0;32mIn[83], line 38\u001B[0m, in \u001B[0;36msample\u001B[0;34m(sample, index)\u001B[0m\n\u001B[1;32m     32\u001B[0m \u001B[38;5;66;03m# You should define your loops as while loops to run in the symbolic mode with drjit. \u001B[39;00m\n\u001B[1;32m     33\u001B[0m \u001B[38;5;66;03m# Otherwise a new cuda kernel will be generated at each iteration which we don't want.\u001B[39;00m\n\u001B[1;32m     34\u001B[0m \u001B[38;5;66;03m# You can read the drjit documentation about how the loops are implemented.\u001B[39;00m\n\u001B[1;32m     35\u001B[0m \n\u001B[1;32m     36\u001B[0m \u001B[38;5;66;03m# We first find the correct bin to sample from.\u001B[39;00m\n\u001B[1;32m     37\u001B[0m \u001B[38;5;28mprint\u001B[39m(low, high)\n\u001B[0;32m---> 38\u001B[0m \u001B[38;5;28;01mwhile\u001B[39;00m (low\u001B[38;5;241m+\u001B[39m\u001B[38;5;241m1\u001B[39m) \u001B[38;5;241m<\u001B[39m high:\n\u001B[1;32m     39\u001B[0m     middle \u001B[38;5;241m=\u001B[39m  (low \u001B[38;5;241m+\u001B[39m high) \u001B[38;5;241m/\u001B[39m\u001B[38;5;241m/\u001B[39m \u001B[38;5;241m2\u001B[39m\n\u001B[1;32m     40\u001B[0m     \u001B[38;5;66;03m# Evaluate the cdf for the corresponding distributions.\u001B[39;00m\n",
      "File \u001B[0;32m~/Desktop/mitsuba3/venv/lib/python3.9/site-packages/drjit/router.py:447\u001B[0m, in \u001B[0;36mop_bool\u001B[0;34m(self)\u001B[0m\n\u001B[1;32m    446\u001B[0m \u001B[38;5;28;01mdef\u001B[39;00m \u001B[38;5;21mop_bool\u001B[39m(\u001B[38;5;28mself\u001B[39m):\n\u001B[0;32m--> 447\u001B[0m     \u001B[38;5;28;01mraise\u001B[39;00m \u001B[38;5;167;01mException\u001B[39;00m(\n\u001B[1;32m    448\u001B[0m         \u001B[38;5;124m\"\u001B[39m\u001B[38;5;124mTo convert an Dr.Jit array into a boolean value, use a mask reduction \u001B[39m\u001B[38;5;124m\"\u001B[39m\n\u001B[1;32m    449\u001B[0m         \u001B[38;5;124m\"\u001B[39m\u001B[38;5;124moperation such as drjit.all(), drjit.any(), drjit.none(). Special \u001B[39m\u001B[38;5;124m\"\u001B[39m\n\u001B[1;32m    450\u001B[0m         \u001B[38;5;124m\"\u001B[39m\u001B[38;5;124mvariants (drjit.all_nested(), etc.) are available for nested arrays.\u001B[39m\u001B[38;5;124m\"\u001B[39m)\n",
      "\u001B[0;31mException\u001B[0m: To convert an Dr.Jit array into a boolean value, use a mask reduction operation such as drjit.all(), drjit.any(), drjit.none(). Special variants (drjit.all_nested(), etc.) are available for nested arrays."
     ]
    }
   ],
   "execution_count": 84
  },
  {
   "cell_type": "code",
   "metadata": {
    "ExecuteTime": {
     "end_time": "2024-11-17T20:56:27.406040Z",
     "start_time": "2024-11-17T20:56:27.338173Z"
    }
   },
   "source": [
    "fig, ax = plt.subplots(1,1,figsize = (5,5))\n",
    "ax.hist(sampled.numpy(), bins = 300, density = True);\n",
    "ax.plot(x.numpy(), pdf_vals.numpy())\n",
    "ax.set_title(\"PDF and the corresponding histogram\")"
   ],
   "outputs": [
    {
     "ename": "NameError",
     "evalue": "name 'sampled' is not defined",
     "output_type": "error",
     "traceback": [
      "\u001B[0;31m---------------------------------------------------------------------------\u001B[0m",
      "\u001B[0;31mNameError\u001B[0m                                 Traceback (most recent call last)",
      "Cell \u001B[0;32mIn[78], line 2\u001B[0m\n\u001B[1;32m      1\u001B[0m fig, ax \u001B[38;5;241m=\u001B[39m plt\u001B[38;5;241m.\u001B[39msubplots(\u001B[38;5;241m1\u001B[39m,\u001B[38;5;241m1\u001B[39m,figsize \u001B[38;5;241m=\u001B[39m (\u001B[38;5;241m5\u001B[39m,\u001B[38;5;241m5\u001B[39m))\n\u001B[0;32m----> 2\u001B[0m ax\u001B[38;5;241m.\u001B[39mhist(\u001B[43msampled\u001B[49m\u001B[38;5;241m.\u001B[39mnumpy(), bins \u001B[38;5;241m=\u001B[39m \u001B[38;5;241m300\u001B[39m, density \u001B[38;5;241m=\u001B[39m \u001B[38;5;28;01mTrue\u001B[39;00m);\n\u001B[1;32m      3\u001B[0m ax\u001B[38;5;241m.\u001B[39mplot(x\u001B[38;5;241m.\u001B[39mnumpy(), pdf_vals\u001B[38;5;241m.\u001B[39mnumpy())\n\u001B[1;32m      4\u001B[0m ax\u001B[38;5;241m.\u001B[39mset_title(\u001B[38;5;124m\"\u001B[39m\u001B[38;5;124mPDF and the corresponding histogram\u001B[39m\u001B[38;5;124m\"\u001B[39m)\n",
      "\u001B[0;31mNameError\u001B[0m: name 'sampled' is not defined"
     ]
    },
    {
     "data": {
      "text/plain": [
       "<Figure size 500x500 with 1 Axes>"
      ],
      "image/png": "[encoded data removed]"
     },
     "metadata": {},
     "output_type": "display_data"
    }
   ],
   "execution_count": 78
  },
  {
   "cell_type": "code",
   "metadata": {
    "ExecuteTime": {
     "end_time": "2024-11-17T20:59:07.988886Z",
     "start_time": "2024-11-17T20:59:07.958703Z"
    }
   },
   "source": [
    "# We now can not sample from diffent distrubutions. \n",
    "index = UInt32([0,2,4,5,6])\n",
    "x = Float([0.21, 0.32, 0.5, 0.12, 0.87])\n",
    "pdf_valss = eval_pdf(x, index)\n",
    "cdf_valss = eval_cdf(x, index)\n",
    "sampledd = sample(x, index)"
   ],
   "outputs": [
    {
     "ename": "Exception",
     "evalue": "To convert an Dr.Jit array into a boolean value, use a mask reduction operation such as drjit.all(), drjit.any(), drjit.none(). Special variants (drjit.all_nested(), etc.) are available for nested arrays.",
     "output_type": "error",
     "traceback": [
      "\u001B[0;31m---------------------------------------------------------------------------\u001B[0m",
      "\u001B[0;31mException\u001B[0m                                 Traceback (most recent call last)",
      "Cell \u001B[0;32mIn[82], line 6\u001B[0m\n\u001B[1;32m      4\u001B[0m pdf_valss \u001B[38;5;241m=\u001B[39m eval_pdf(x, index)\n\u001B[1;32m      5\u001B[0m cdf_valss \u001B[38;5;241m=\u001B[39m eval_cdf(x, index)\n\u001B[0;32m----> 6\u001B[0m sampledd \u001B[38;5;241m=\u001B[39m \u001B[43msample\u001B[49m\u001B[43m(\u001B[49m\u001B[43mx\u001B[49m\u001B[43m,\u001B[49m\u001B[43m \u001B[49m\u001B[43mindex\u001B[49m\u001B[43m)\u001B[49m\n",
      "Cell \u001B[0;32mIn[69], line 37\u001B[0m, in \u001B[0;36msample\u001B[0;34m(sample, index)\u001B[0m\n\u001B[1;32m     30\u001B[0m high \u001B[38;5;241m=\u001B[39m dr\u001B[38;5;241m.\u001B[39mones(UInt32, dr\u001B[38;5;241m.\u001B[39mwidth(sample)) \u001B[38;5;241m*\u001B[39m n\n\u001B[1;32m     32\u001B[0m \u001B[38;5;66;03m# You should define your loops as while loops to run in the symbolic mode with drjit. \u001B[39;00m\n\u001B[1;32m     33\u001B[0m \u001B[38;5;66;03m# Otherwise a new cuda kernel will be generated at each iteration which we don't want.\u001B[39;00m\n\u001B[1;32m     34\u001B[0m \u001B[38;5;66;03m# You can read the drjit documentation about how the loops are implemented.\u001B[39;00m\n\u001B[1;32m     35\u001B[0m \n\u001B[1;32m     36\u001B[0m \u001B[38;5;66;03m# We first find the correct bin to sample from.\u001B[39;00m\n\u001B[0;32m---> 37\u001B[0m \u001B[38;5;28;01mwhile\u001B[39;00m (low\u001B[38;5;241m+\u001B[39m\u001B[38;5;241m1\u001B[39m) \u001B[38;5;241m<\u001B[39m high:\n\u001B[1;32m     38\u001B[0m     middle \u001B[38;5;241m=\u001B[39m  (low \u001B[38;5;241m+\u001B[39m high) \u001B[38;5;241m/\u001B[39m\u001B[38;5;241m/\u001B[39m \u001B[38;5;241m2\u001B[39m\n\u001B[1;32m     39\u001B[0m     \u001B[38;5;66;03m# Evaluate the cdf for the corresponding distributions.\u001B[39;00m\n",
      "File \u001B[0;32m~/Desktop/mitsuba3/venv/lib/python3.9/site-packages/drjit/router.py:447\u001B[0m, in \u001B[0;36mop_bool\u001B[0;34m(self)\u001B[0m\n\u001B[1;32m    446\u001B[0m \u001B[38;5;28;01mdef\u001B[39;00m \u001B[38;5;21mop_bool\u001B[39m(\u001B[38;5;28mself\u001B[39m):\n\u001B[0;32m--> 447\u001B[0m     \u001B[38;5;28;01mraise\u001B[39;00m \u001B[38;5;167;01mException\u001B[39;00m(\n\u001B[1;32m    448\u001B[0m         \u001B[38;5;124m\"\u001B[39m\u001B[38;5;124mTo convert an Dr.Jit array into a boolean value, use a mask reduction \u001B[39m\u001B[38;5;124m\"\u001B[39m\n\u001B[1;32m    449\u001B[0m         \u001B[38;5;124m\"\u001B[39m\u001B[38;5;124moperation such as drjit.all(), drjit.any(), drjit.none(). Special \u001B[39m\u001B[38;5;124m\"\u001B[39m\n\u001B[1;32m    450\u001B[0m         \u001B[38;5;124m\"\u001B[39m\u001B[38;5;124mvariants (drjit.all_nested(), etc.) are available for nested arrays.\u001B[39m\u001B[38;5;124m\"\u001B[39m)\n",
      "\u001B[0;31mException\u001B[0m: To convert an Dr.Jit array into a boolean value, use a mask reduction operation such as drjit.all(), drjit.any(), drjit.none(). Special variants (drjit.all_nested(), etc.) are available for nested arrays."
     ]
    }
   ],
   "execution_count": 82
  },
  {
   "cell_type": "code",
   "execution_count": 11,
   "metadata": {},
   "outputs": [
    {
     "data": {
      "text/plain": [
       "[0.215709, 0.732519, 0.0236447, .. 99999994 skipped .., 0.771928, 0.963854, 0.771555]"
      ]
     },
     "execution_count": 11,
     "metadata": {},
     "output_type": "execute_result"
    }
   ],
   "source": [
    "sampled"
   ]
  }
 ],
 "metadata": {
  "kernelspec": {
   "display_name": "invpde-3D",
   "language": "python",
   "name": "python3"
  },
  "language_info": {
   "codemirror_mode": {
    "name": "ipython",
    "version": 3
   },
   "file_extension": ".py",
   "mimetype": "text/x-python",
   "name": "python",
   "nbconvert_exporter": "python",
   "pygments_lexer": "ipython3",
   "version": "3.10.12"
  }
 },
 "nbformat": 4,
 "nbformat_minor": 2
}
