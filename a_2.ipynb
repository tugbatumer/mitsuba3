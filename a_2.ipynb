{
 "cells": [
  {
   "cell_type": "code",
   "metadata": {
    "ExecuteTime": {
     "end_time": "2024-11-18T13:40:03.335003Z",
     "start_time": "2024-11-18T13:40:03.252290Z"
    }
   },
   "source": [
    "import mitsuba as mi \n",
    "import drjit as dr \n",
    "import numpy as np\n",
    "from matplotlib import pyplot as plt\n",
    "mi.set_variant(\"llvm_ad_rgb\")"
   ],
   "outputs": [
    {
     "ename": "ModuleNotFoundError",
     "evalue": "No module named 'drjit'",
     "output_type": "error",
     "traceback": [
      "\u001B[0;31m---------------------------------------------------------------------------\u001B[0m",
      "\u001B[0;31mModuleNotFoundError\u001B[0m                       Traceback (most recent call last)",
      "Cell \u001B[0;32mIn[1], line 2\u001B[0m\n\u001B[1;32m      1\u001B[0m \u001B[38;5;28;01mimport\u001B[39;00m \u001B[38;5;21;01mmitsuba\u001B[39;00m \u001B[38;5;28;01mas\u001B[39;00m \u001B[38;5;21;01mmi\u001B[39;00m \n\u001B[0;32m----> 2\u001B[0m \u001B[38;5;28;01mimport\u001B[39;00m \u001B[38;5;21;01mdrjit\u001B[39;00m \u001B[38;5;28;01mas\u001B[39;00m \u001B[38;5;21;01mdr\u001B[39;00m \n\u001B[1;32m      3\u001B[0m \u001B[38;5;28;01mimport\u001B[39;00m \u001B[38;5;21;01mnumpy\u001B[39;00m \u001B[38;5;28;01mas\u001B[39;00m \u001B[38;5;21;01mnp\u001B[39;00m\n\u001B[1;32m      4\u001B[0m \u001B[38;5;28;01mfrom\u001B[39;00m \u001B[38;5;21;01mmatplotlib\u001B[39;00m \u001B[38;5;28;01mimport\u001B[39;00m pyplot \u001B[38;5;28;01mas\u001B[39;00m plt\n",
      "\u001B[0;31mModuleNotFoundError\u001B[0m: No module named 'drjit'"
     ]
    }
   ],
   "execution_count": 1
  },
  {
   "metadata": {
    "ExecuteTime": {
     "end_time": "2024-11-18T11:15:50.286408Z",
     "start_time": "2024-11-18T11:15:50.276776Z"
    }
   },
   "cell_type": "code",
   "source": "import mitsuba as mi",
   "outputs": [],
   "execution_count": 11
  },
  {
   "metadata": {
    "ExecuteTime": {
     "end_time": "2024-11-18T11:14:54.516537Z",
     "start_time": "2024-11-18T11:14:54.392118Z"
    }
   },
   "cell_type": "code",
   "source": [
    "import sys\n",
    "sys.path.insert(0, '/Users/tugba/Desktop/mitsuba3/ext/drjit')\n",
    "\n",
    "import drjit as dr\n",
    "print(dr.__file__) "
   ],
   "outputs": [
    {
     "ename": "ImportError",
     "evalue": "Could not import the Dr.Jit binary extension. It is likely that the Python version for which Dr.Jit was compiled (3.12.6) is incompatible with the current interpreter (3.12.6).",
     "output_type": "error",
     "traceback": [
      "\u001B[0;31m---------------------------------------------------------------------------\u001B[0m",
      "\u001B[0;31mImportError\u001B[0m                               Traceback (most recent call last)",
      "File \u001B[0;32m~/Desktop/mitsuba3/ext/drjit/drjit/__init__.py:5\u001B[0m\n\u001B[1;32m      4\u001B[0m \u001B[38;5;28;01mtry\u001B[39;00m:\n\u001B[0;32m----> 5\u001B[0m     \u001B[38;5;28;01mfrom\u001B[39;00m \u001B[38;5;21;01m.\u001B[39;00m \u001B[38;5;28;01mimport\u001B[39;00m _drjit_ext \u001B[38;5;28;01mas\u001B[39;00m _drjit_ext\n\u001B[1;32m      6\u001B[0m \u001B[38;5;28;01mexcept\u001B[39;00m \u001B[38;5;167;01mImportError\u001B[39;00m \u001B[38;5;28;01mas\u001B[39;00m e:\n",
      "\u001B[0;31mImportError\u001B[0m: cannot import name '_drjit_ext' from partially initialized module 'drjit' (most likely due to a circular import) (/Users/tugba/Desktop/mitsuba3/ext/drjit/drjit/__init__.py)",
      "\nThe above exception was the direct cause of the following exception:\n",
      "\u001B[0;31mImportError\u001B[0m                               Traceback (most recent call last)",
      "Cell \u001B[0;32mIn[10], line 4\u001B[0m\n\u001B[1;32m      1\u001B[0m \u001B[38;5;28;01mimport\u001B[39;00m \u001B[38;5;21;01msys\u001B[39;00m\n\u001B[1;32m      2\u001B[0m sys\u001B[38;5;241m.\u001B[39mpath\u001B[38;5;241m.\u001B[39minsert(\u001B[38;5;241m0\u001B[39m, \u001B[38;5;124m'\u001B[39m\u001B[38;5;124m/Users/tugba/Desktop/mitsuba3/ext\u001B[39m\u001B[38;5;124m'\u001B[39m)\n\u001B[0;32m----> 4\u001B[0m \u001B[38;5;28;01mimport\u001B[39;00m \u001B[38;5;21;01mdrjit\u001B[39;00m \u001B[38;5;28;01mas\u001B[39;00m \u001B[38;5;21;01mdr\u001B[39;00m\n\u001B[1;32m      5\u001B[0m \u001B[38;5;28mprint\u001B[39m(dr\u001B[38;5;241m.\u001B[39m\u001B[38;5;18m__file__\u001B[39m) \n",
      "File \u001B[0;32m~/Desktop/mitsuba3/ext/drjit/drjit/__init__.py:17\u001B[0m\n\u001B[1;32m     11\u001B[0m         err \u001B[38;5;241m=\u001B[39m \u001B[38;5;167;01mImportError\u001B[39;00m(\n\u001B[1;32m     12\u001B[0m             \u001B[38;5;124mf\u001B[39m\u001B[38;5;124m'\u001B[39m\u001B[38;5;124mCould not import the Dr.Jit binary extension. It is likely that \u001B[39m\u001B[38;5;124m'\u001B[39m\n\u001B[1;32m     13\u001B[0m             \u001B[38;5;124mf\u001B[39m\u001B[38;5;124m'\u001B[39m\u001B[38;5;124mthe Python version for which Dr.Jit was compiled (\u001B[39m\u001B[38;5;132;01m{\u001B[39;00mpy_ver_pkg\u001B[38;5;132;01m}\u001B[39;00m\u001B[38;5;124m) \u001B[39m\u001B[38;5;124m'\u001B[39m\n\u001B[1;32m     14\u001B[0m             \u001B[38;5;124mf\u001B[39m\u001B[38;5;124m'\u001B[39m\u001B[38;5;124mis incompatible with the current interpreter (\u001B[39m\u001B[38;5;132;01m{\u001B[39;00mpy_ver_cur\u001B[38;5;132;01m}\u001B[39;00m\u001B[38;5;124m).\u001B[39m\u001B[38;5;124m'\u001B[39m)\n\u001B[1;32m     16\u001B[0m         err\u001B[38;5;241m.\u001B[39m__cause__ \u001B[38;5;241m=\u001B[39m e\n\u001B[0;32m---> 17\u001B[0m         \u001B[38;5;28;01mraise\u001B[39;00m err\n\u001B[1;32m     19\u001B[0m \u001B[38;5;28;01mimport\u001B[39;00m \u001B[38;5;21;01msys\u001B[39;00m\n\u001B[1;32m     20\u001B[0m \u001B[38;5;28;01mif\u001B[39;00m sys\u001B[38;5;241m.\u001B[39mversion_info \u001B[38;5;241m<\u001B[39m (\u001B[38;5;241m3\u001B[39m, \u001B[38;5;241m11\u001B[39m):\n",
      "\u001B[0;31mImportError\u001B[0m: Could not import the Dr.Jit binary extension. It is likely that the Python version for which Dr.Jit was compiled (3.12.6) is incompatible with the current interpreter (3.12.6)."
     ]
    }
   ],
   "execution_count": 10
  },
  {
   "metadata": {
    "ExecuteTime": {
     "end_time": "2024-11-17T21:33:14.065400Z",
     "start_time": "2024-11-17T21:33:14.050130Z"
    }
   },
   "cell_type": "code",
   "outputs": [
    {
     "ename": "AttributeError",
     "evalue": "module 'drjit' has no attribute 'syntax'",
     "output_type": "error",
     "traceback": [
      "\u001B[0;31m---------------------------------------------------------------------------\u001B[0m",
      "\u001B[0;31mAttributeError\u001B[0m                            Traceback (most recent call last)",
      "Cell \u001B[0;32mIn[21], line 1\u001B[0m\n\u001B[0;32m----> 1\u001B[0m \u001B[43mdr\u001B[49m\u001B[38;5;241;43m.\u001B[39;49m\u001B[43msyntax\u001B[49m\n",
      "\u001B[0;31mAttributeError\u001B[0m: module 'drjit' has no attribute 'syntax'"
     ]
    }
   ],
   "execution_count": 21,
   "source": "dr.syntax"
  },
  {
   "cell_type": "code",
   "metadata": {
    "ExecuteTime": {
     "end_time": "2024-11-17T21:29:18.169890Z",
     "start_time": "2024-11-17T21:29:18.166752Z"
    }
   },
   "source": [
    "# Define multiple cdf s and pdf s to sample from. We will specify an index parameter \n",
    "# to choose the correct distribution.\n",
    "pdf = np.array([[1,2,3,4,3,1,2,4,5,6,7],\n",
    "                [1,4,1,4,4,5,2,3,5,5,1]])\n",
    "pdf = pdf / np.sum(pdf, axis = 1)[:,np.newaxis]\n",
    "cdf = np.cumsum(pdf, axis = 1) / np.sum(pdf, axis = 1)[:,np.newaxis]\n",
    "# Add zero values to the beginning of the cdf.\n",
    "cdf = np.hstack([np.zeros([pdf.shape[0],1]), cdf])"
   ],
   "outputs": [],
   "execution_count": 2
  },
  {
   "cell_type": "code",
   "metadata": {
    "ExecuteTime": {
     "end_time": "2024-11-17T21:29:18.343624Z",
     "start_time": "2024-11-17T21:29:18.339515Z"
    }
   },
   "source": [
    "pdf = mi.TensorXf(pdf)\n",
    "cdf = mi.TensorXf(cdf)\n",
    "print(pdf.shape)\n",
    "print(cdf.shape)"
   ],
   "outputs": [
    {
     "name": "stdout",
     "output_type": "stream",
     "text": [
      "(2, 11)\n",
      "(2, 12)\n"
     ]
    }
   ],
   "execution_count": 3
  },
  {
   "cell_type": "code",
   "metadata": {
    "ExecuteTime": {
     "end_time": "2024-11-17T21:29:19.166100Z",
     "start_time": "2024-11-17T21:29:19.163440Z"
    }
   },
   "source": [
    "print(cdf)"
   ],
   "outputs": [
    {
     "name": "stdout",
     "output_type": "stream",
     "text": [
      "TensorXf(shape=(2, 12))\n"
     ]
    }
   ],
   "execution_count": 4
  },
  {
   "cell_type": "code",
   "metadata": {
    "ExecuteTime": {
     "end_time": "2024-11-17T21:46:56.334639Z",
     "start_time": "2024-11-17T21:46:56.311868Z"
    }
   },
   "source": [
    "# Do not forget to write @dr.syntax in the beginning of each function. \n",
    "# You can check drjit documentation for it.\n",
    "\n",
    "@dr.syntax\n",
    "def eval_pdf(x, index = mi.UInt32(0)):\n",
    "    n = pdf.shape[1]\n",
    "    n_bin = dr.minimum(n-1, mi.UInt32(x * n))\n",
    "    # Get the index of the array for the corresponding index of cdf.\n",
    "    i = n * index + n_bin\n",
    "    return dr.gather(mi.Float, pdf.array, i) * n\n",
    "\n",
    "def eval_cdf(x, index = mi.UInt32(0)):\n",
    "    n = pdf.shape[1]\n",
    "    x_n = x * n\n",
    "    n_bin = dr.minimum(n-1, mi.UInt32(x_n))\n",
    "    # Residual value\n",
    "    r = x_n - mi.Float(n_bin)\n",
    "    \n",
    "    # Get the corresponding indices from different cdfs.\n",
    "    i = (n +1) * index + n_bin\n",
    "    cdf_low = dr.gather(mi.Float, cdf.array, i)\n",
    "    cdf_high = dr.gather(mi.Float, cdf.array, i + 1)\n",
    "\n",
    "    # Apply linear interpolation between cdf values.\n",
    "    return cdf_low * (1 -r) + cdf_high * r\n",
    "\n",
    "def sample(sample : mi.Float, index = mi.UInt32(0)):\n",
    "    # Run bisection to apply inverse cdf.\n",
    "    n = pdf.shape[1]\n",
    "    low = dr.zeros(mi.UInt32, dr.width(sample))\n",
    "    high = dr.ones(mi.UInt32, dr.width(sample)) * n\n",
    "\n",
    "    # You should define your loops as while loops to run in the symbolic mode with drjit. \n",
    "    # Otherwise a new cuda kernel will be generated at each iteration which we don't want.\n",
    "    # You can read the drjit documentation about how the loops are implemented.\n",
    "\n",
    "    # We first find the correct bin to sample from.\n",
    "    print(low)\n",
    "    print(high)\n",
    "    while (low+1) < high:\n",
    "        middle =  (low + high) // 2\n",
    "        # Evaluate the cdf for the corresponding distributions.\n",
    "        i = (n +1) * index + middle\n",
    "        cdf_val = dr.gather(mi.Float, cdf.array, i)\n",
    "        \n",
    "        if sample < cdf_val:\n",
    "            high = middle\n",
    "        else:\n",
    "            low = middle\n",
    "\n",
    "    # Now we found the corect bin. We need to find the exact point by a linear interpolation as the cdf is linear.\n",
    "    i = (n +1) * index + low \n",
    "    cdf_low = dr.gather(mi.Float, cdf.array, i)\n",
    "    cdf_high = dr.gather(mi.Float, cdf.array, i+1)\n",
    "    \n",
    "    residual = sample - cdf_low\n",
    "\n",
    "    return (mi.Float(low) + residual / (cdf_high - cdf_low))/ n"
   ],
   "outputs": [
    {
     "ename": "AttributeError",
     "evalue": "module 'drjit' has no attribute 'syntax'",
     "output_type": "error",
     "traceback": [
      "\u001B[0;31m---------------------------------------------------------------------------\u001B[0m",
      "\u001B[0;31mAttributeError\u001B[0m                            Traceback (most recent call last)",
      "Cell \u001B[0;32mIn[4], line 4\u001B[0m\n\u001B[1;32m      1\u001B[0m \u001B[38;5;66;03m# Do not forget to write @dr.syntax in the beginning of each function. \u001B[39;00m\n\u001B[1;32m      2\u001B[0m \u001B[38;5;66;03m# You can check drjit documentation for it.\u001B[39;00m\n\u001B[0;32m----> 4\u001B[0m \u001B[38;5;129m@dr\u001B[39m\u001B[38;5;241;43m.\u001B[39;49m\u001B[43msyntax\u001B[49m\n\u001B[1;32m      5\u001B[0m \u001B[38;5;28;01mdef\u001B[39;00m \u001B[38;5;21meval_pdf\u001B[39m(x, index \u001B[38;5;241m=\u001B[39m mi\u001B[38;5;241m.\u001B[39mUInt32(\u001B[38;5;241m0\u001B[39m)):\n\u001B[1;32m      6\u001B[0m     n \u001B[38;5;241m=\u001B[39m pdf\u001B[38;5;241m.\u001B[39mshape[\u001B[38;5;241m1\u001B[39m]\n\u001B[1;32m      7\u001B[0m     n_bin \u001B[38;5;241m=\u001B[39m dr\u001B[38;5;241m.\u001B[39mminimum(n\u001B[38;5;241m-\u001B[39m\u001B[38;5;241m1\u001B[39m, mi\u001B[38;5;241m.\u001B[39mUInt32(x \u001B[38;5;241m*\u001B[39m n))\n",
      "\u001B[0;31mAttributeError\u001B[0m: module 'drjit' has no attribute 'syntax'"
     ]
    }
   ],
   "execution_count": 4
  },
  {
   "metadata": {
    "ExecuteTime": {
     "end_time": "2024-11-17T21:32:39.160077Z",
     "start_time": "2024-11-17T21:32:39.147951Z"
    }
   },
   "cell_type": "code",
   "source": [
    "import drjit as dr\n",
    "print(dr.__file__) "
   ],
   "outputs": [
    {
     "name": "stdout",
     "output_type": "stream",
     "text": [
      "/Users/tugba/Desktop/mitsuba3/venv/lib/python3.9/site-packages/drjit/__init__.py\n"
     ]
    }
   ],
   "execution_count": 18
  },
  {
   "metadata": {
    "ExecuteTime": {
     "end_time": "2024-11-17T21:31:40.259472Z",
     "start_time": "2024-11-17T21:31:40.243828Z"
    }
   },
   "cell_type": "code",
   "source": [
    "from drjit.llvm import UInt32\n",
    "\n",
    "@dr.syntax\n",
    "def f(x: UInt32):\n",
    "    if x < 4:\n",
    "        y = 3\n",
    "    else:\n",
    "        y = 5\n",
    "    return y"
   ],
   "outputs": [
    {
     "ename": "AttributeError",
     "evalue": "module 'drjit' has no attribute 'syntax'",
     "output_type": "error",
     "traceback": [
      "\u001B[0;31m---------------------------------------------------------------------------\u001B[0m",
      "\u001B[0;31mAttributeError\u001B[0m                            Traceback (most recent call last)",
      "Cell \u001B[0;32mIn[17], line 3\u001B[0m\n\u001B[1;32m      1\u001B[0m \u001B[38;5;28;01mfrom\u001B[39;00m \u001B[38;5;21;01mdrjit\u001B[39;00m\u001B[38;5;21;01m.\u001B[39;00m\u001B[38;5;21;01mllvm\u001B[39;00m \u001B[38;5;28;01mimport\u001B[39;00m UInt32\n\u001B[0;32m----> 3\u001B[0m \u001B[38;5;129m@dr\u001B[39m\u001B[38;5;241;43m.\u001B[39;49m\u001B[43msyntax\u001B[49m\n\u001B[1;32m      4\u001B[0m \u001B[38;5;28;01mdef\u001B[39;00m \u001B[38;5;21mf\u001B[39m(x: UInt32):\n\u001B[1;32m      5\u001B[0m     \u001B[38;5;28;01mif\u001B[39;00m x \u001B[38;5;241m<\u001B[39m \u001B[38;5;241m4\u001B[39m:\n\u001B[1;32m      6\u001B[0m         y \u001B[38;5;241m=\u001B[39m \u001B[38;5;241m3\u001B[39m\n",
      "\u001B[0;31mAttributeError\u001B[0m: module 'drjit' has no attribute 'syntax'"
     ]
    }
   ],
   "execution_count": 17
  },
  {
   "cell_type": "code",
   "metadata": {
    "ExecuteTime": {
     "end_time": "2024-11-17T21:31:35.425936Z",
     "start_time": "2024-11-17T21:31:35.412962Z"
    }
   },
   "source": [
    "# First plot the cdf and the pdf for a certain index.\n",
    "n = 200\n",
    "ind = 0\n",
    "index = dr.ones(mi.UInt32, n) * ind\n",
    "x = dr.arange(mi.Float, n) / n \n",
    "pdf_vals = eval_pdf(x, index)\n",
    "cdf_vals = eval_cdf(x, index)"
   ],
   "outputs": [
    {
     "ename": "NameError",
     "evalue": "name 'eval_pdf' is not defined",
     "output_type": "error",
     "traceback": [
      "\u001B[0;31m---------------------------------------------------------------------------\u001B[0m",
      "\u001B[0;31mNameError\u001B[0m                                 Traceback (most recent call last)",
      "Cell \u001B[0;32mIn[16], line 6\u001B[0m\n\u001B[1;32m      4\u001B[0m index \u001B[38;5;241m=\u001B[39m dr\u001B[38;5;241m.\u001B[39mones(mi\u001B[38;5;241m.\u001B[39mUInt32, n) \u001B[38;5;241m*\u001B[39m ind\n\u001B[1;32m      5\u001B[0m x \u001B[38;5;241m=\u001B[39m dr\u001B[38;5;241m.\u001B[39marange(mi\u001B[38;5;241m.\u001B[39mFloat, n) \u001B[38;5;241m/\u001B[39m n \n\u001B[0;32m----> 6\u001B[0m pdf_vals \u001B[38;5;241m=\u001B[39m \u001B[43meval_pdf\u001B[49m(x, index)\n\u001B[1;32m      7\u001B[0m cdf_vals \u001B[38;5;241m=\u001B[39m eval_cdf(x, index)\n",
      "\u001B[0;31mNameError\u001B[0m: name 'eval_pdf' is not defined"
     ]
    }
   ],
   "execution_count": 16
  },
  {
   "cell_type": "code",
   "metadata": {
    "ExecuteTime": {
     "end_time": "2024-11-17T21:04:39.899113Z",
     "start_time": "2024-11-17T21:04:39.731109Z"
    }
   },
   "source": [
    "fig, (ax1, ax2) = plt.subplots(1,2,figsize = (10,5))\n",
    "ax1.plot(x.numpy(), pdf_vals.numpy())\n",
    "ax2.plot(x.numpy(), cdf_vals.numpy())\n",
    "ax1.set_title(\"PDF\")\n",
    "ax2.set_title(\"CDF\")"
   ],
   "outputs": [
    {
     "data": {
      "text/plain": [
       "Text(0.5, 1.0, 'CDF')"
      ]
     },
     "execution_count": 16,
     "metadata": {},
     "output_type": "execute_result"
    },
    {
     "data": {
      "text/plain": [
       "<Figure size 1000x500 with 2 Axes>"
      ],
      "image/png": "[encoded data removed]"
     },
     "metadata": {},
     "output_type": "display_data"
    }
   ],
   "execution_count": 16
  },
  {
   "cell_type": "code",
   "metadata": {
    "ExecuteTime": {
     "end_time": "2024-11-17T21:04:40.712050Z",
     "start_time": "2024-11-17T21:04:40.679403Z"
    }
   },
   "source": [
    "# Now lets check the sampling for a single bin.\n",
    "n_points = 100000000\n",
    "sampler = mi.PCG32(n_points)\n",
    "index = dr.ones(mi.UInt32, n_points) * ind\n",
    "sampled = sample(sampler.next_float32(), index = index)"
   ],
   "outputs": [
    {
     "name": "stdout",
     "output_type": "stream",
     "text": [
      "[0, 0, 0, 0, 0, .. 99999990 skipped .., 0, 0, 0, 0, 0]\n",
      "[11, 11, 11, 11, 11, .. 99999990 skipped .., 11, 11, 11, 11, 11]\n"
     ]
    },
    {
     "ename": "Exception",
     "evalue": "To convert an Dr.Jit array into a boolean value, use a mask reduction operation such as drjit.all(), drjit.any(), drjit.none(). Special variants (drjit.all_nested(), etc.) are available for nested arrays.",
     "output_type": "error",
     "traceback": [
      "\u001B[0;31m---------------------------------------------------------------------------\u001B[0m",
      "\u001B[0;31mException\u001B[0m                                 Traceback (most recent call last)",
      "Cell \u001B[0;32mIn[17], line 5\u001B[0m\n\u001B[1;32m      3\u001B[0m sampler \u001B[38;5;241m=\u001B[39m mi\u001B[38;5;241m.\u001B[39mPCG32(n_points)\n\u001B[1;32m      4\u001B[0m index \u001B[38;5;241m=\u001B[39m dr\u001B[38;5;241m.\u001B[39mones(mi\u001B[38;5;241m.\u001B[39mUInt32, n_points) \u001B[38;5;241m*\u001B[39m ind\n\u001B[0;32m----> 5\u001B[0m sampled \u001B[38;5;241m=\u001B[39m \u001B[43msample\u001B[49m\u001B[43m(\u001B[49m\u001B[43msampler\u001B[49m\u001B[38;5;241;43m.\u001B[39;49m\u001B[43mnext_float32\u001B[49m\u001B[43m(\u001B[49m\u001B[43m)\u001B[49m\u001B[43m,\u001B[49m\u001B[43m \u001B[49m\u001B[43mindex\u001B[49m\u001B[43m \u001B[49m\u001B[38;5;241;43m=\u001B[39;49m\u001B[43m \u001B[49m\u001B[43mindex\u001B[49m\u001B[43m)\u001B[49m\n",
      "Cell \u001B[0;32mIn[14], line 39\u001B[0m, in \u001B[0;36msample\u001B[0;34m(sample, index)\u001B[0m\n\u001B[1;32m     37\u001B[0m \u001B[38;5;28mprint\u001B[39m(low)\n\u001B[1;32m     38\u001B[0m \u001B[38;5;28mprint\u001B[39m(high)\n\u001B[0;32m---> 39\u001B[0m \u001B[38;5;28;01mwhile\u001B[39;00m (low\u001B[38;5;241m+\u001B[39m\u001B[38;5;241m1\u001B[39m) \u001B[38;5;241m<\u001B[39m high:\n\u001B[1;32m     40\u001B[0m     middle \u001B[38;5;241m=\u001B[39m  (low \u001B[38;5;241m+\u001B[39m high) \u001B[38;5;241m/\u001B[39m\u001B[38;5;241m/\u001B[39m \u001B[38;5;241m2\u001B[39m\n\u001B[1;32m     41\u001B[0m     \u001B[38;5;66;03m# Evaluate the cdf for the corresponding distributions.\u001B[39;00m\n",
      "File \u001B[0;32m~/Desktop/mitsuba3/venv/lib/python3.9/site-packages/drjit/router.py:447\u001B[0m, in \u001B[0;36mop_bool\u001B[0;34m(self)\u001B[0m\n\u001B[1;32m    446\u001B[0m \u001B[38;5;28;01mdef\u001B[39;00m \u001B[38;5;21mop_bool\u001B[39m(\u001B[38;5;28mself\u001B[39m):\n\u001B[0;32m--> 447\u001B[0m     \u001B[38;5;28;01mraise\u001B[39;00m \u001B[38;5;167;01mException\u001B[39;00m(\n\u001B[1;32m    448\u001B[0m         \u001B[38;5;124m\"\u001B[39m\u001B[38;5;124mTo convert an Dr.Jit array into a boolean value, use a mask reduction \u001B[39m\u001B[38;5;124m\"\u001B[39m\n\u001B[1;32m    449\u001B[0m         \u001B[38;5;124m\"\u001B[39m\u001B[38;5;124moperation such as drjit.all(), drjit.any(), drjit.none(). Special \u001B[39m\u001B[38;5;124m\"\u001B[39m\n\u001B[1;32m    450\u001B[0m         \u001B[38;5;124m\"\u001B[39m\u001B[38;5;124mvariants (drjit.all_nested(), etc.) are available for nested arrays.\u001B[39m\u001B[38;5;124m\"\u001B[39m)\n",
      "\u001B[0;31mException\u001B[0m: To convert an Dr.Jit array into a boolean value, use a mask reduction operation such as drjit.all(), drjit.any(), drjit.none(). Special variants (drjit.all_nested(), etc.) are available for nested arrays."
     ]
    }
   ],
   "execution_count": 17
  },
  {
   "cell_type": "code",
   "execution_count": 9,
   "metadata": {},
   "outputs": [
    {
     "data": {
      "text/plain": [
       "Text(0.5, 1.0, 'PDF and the corresponding histogram')"
      ]
     },
     "execution_count": 9,
     "metadata": {},
     "output_type": "execute_result"
    },
    {
     "data": {
      "image/png": "[encoded data removed]",
      "text/plain": [
       "<Figure size 500x500 with 1 Axes>"
      ]
     },
     "metadata": {},
     "output_type": "display_data"
    }
   ],
   "source": [
    "fig, ax = plt.subplots(1,1,figsize = (5,5))\n",
    "ax.hist(sampled.numpy(), bins = 300, density = True);\n",
    "ax.plot(x.numpy(), pdf_vals.numpy())\n",
    "ax.set_title(\"PDF and the corresponding histogram\")"
   ]
  },
  {
   "cell_type": "code",
   "execution_count": 10,
   "metadata": {},
   "outputs": [],
   "source": [
    "# We now can not sample from diffent distrubutions. \n",
    "index = mi.UInt32([0,2,4,5,6])\n",
    "x = mi.Float([0.21, 0.32, 0.5, 0.12, 0.87])\n",
    "pdf_valss = eval_pdf(x, index)\n",
    "cdf_valss = eval_cdf(x, index)\n",
    "sampledd = sample(x, index)"
   ]
  },
  {
   "cell_type": "code",
   "execution_count": 11,
   "metadata": {},
   "outputs": [
    {
     "data": {
      "text/plain": [
       "[0.215709, 0.732519, 0.0236447, .. 99999994 skipped .., 0.771928, 0.963854, 0.771555]"
      ]
     },
     "execution_count": 11,
     "metadata": {},
     "output_type": "execute_result"
    }
   ],
   "source": [
    "sampled"
   ]
  }
 ],
 "metadata": {
  "kernelspec": {
   "display_name": "invpde-3D",
   "language": "python",
   "name": "python3"
  },
  "language_info": {
   "codemirror_mode": {
    "name": "ipython",
    "version": 3
   },
   "file_extension": ".py",
   "mimetype": "text/x-python",
   "name": "python",
   "nbconvert_exporter": "python",
   "pygments_lexer": "ipython3",
   "version": "3.10.12"
  }
 },
 "nbformat": 4,
 "nbformat_minor": 2
}
